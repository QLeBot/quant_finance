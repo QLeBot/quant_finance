{
 "cells": [
  {
   "cell_type": "code",
   "execution_count": null,
   "metadata": {
    "vscode": {
     "languageId": "plaintext"
    }
   },
   "outputs": [],
   "source": [
    "#yfinance – asset prices\n",
    "import yfinance as yf\n",
    "\n",
    "#numpy, pandas – calculations\n",
    "import numpy as np\n",
    "import pandas as pd\n",
    "\n",
    "#matplotlib / plotly – plotting\n",
    "import matplotlib.pyplot as plt\n",
    "import plotly.graph_objects as go\n",
    "\n",
    "#cvxpy or scipy.optimize – optimization (optional)\n",
    "import cvxpy as cp\n",
    "import scipy.optimize as opt\n"
   ]
  },
  {
   "cell_type": "markdown",
   "metadata": {},
   "source": [
    "Choose Assets"
   ]
  },
  {
   "cell_type": "code",
   "execution_count": null,
   "metadata": {
    "vscode": {
     "languageId": "plaintext"
    }
   },
   "outputs": [],
   "source": [
    "tickers = [\"AAPL\", \"MSFT\", \"GOOGL\", \"TSLA\", \"NVDA\"]\n",
    "data = yf.download(tickers, start=\"2020-01-01\", end=\"2023-12-31\")['Adj Close']"
   ]
  },
  {
   "cell_type": "markdown",
   "metadata": {},
   "source": [
    "Calculate Daily & Annual Returns"
   ]
  },
  {
   "cell_type": "code",
   "execution_count": null,
   "metadata": {
    "vscode": {
     "languageId": "plaintext"
    }
   },
   "outputs": [],
   "source": [
    "returns = data.pct_change().dropna()\n",
    "annual_returns = returns.mean() * 252\n",
    "cov_matrix = returns.cov() * 252"
   ]
  },
  {
   "cell_type": "markdown",
   "metadata": {},
   "source": [
    "Simulate Portfolios Use numpy to simulate thousands of random weight combinations:"
   ]
  },
  {
   "cell_type": "code",
   "execution_count": null,
   "metadata": {
    "vscode": {
     "languageId": "plaintext"
    }
   },
   "outputs": [],
   "source": [
    "num_portfolios = 10000\n",
    "results = np.zeros((3, num_portfolios))\n",
    "weights_record = []\n",
    "\n",
    "for i in range(num_portfolios):\n",
    "    weights = np.random.random(len(tickers))\n",
    "    weights /= np.sum(weights)\n",
    "    weights_record.append(weights)\n",
    "    \n",
    "    portfolio_return = np.dot(weights, annual_returns)\n",
    "    portfolio_volatility = np.sqrt(np.dot(weights.T, np.dot(cov_matrix, weights)))\n",
    "    sharpe = portfolio_return / portfolio_volatility\n",
    "    \n",
    "    results[0,i] = portfolio_return\n",
    "    results[1,i] = portfolio_volatility\n",
    "    results[2,i] = sharpe"
   ]
  },
  {
   "cell_type": "markdown",
   "metadata": {},
   "source": [
    "Plot Efficient Frontier"
   ]
  },
  {
   "cell_type": "code",
   "execution_count": null,
   "metadata": {
    "vscode": {
     "languageId": "plaintext"
    }
   },
   "outputs": [],
   "source": [
    "plt.scatter(results[1,:], results[0,:], c=results[2,:], cmap='viridis')\n",
    "plt.xlabel('Volatility')\n",
    "plt.ylabel('Return')\n",
    "plt.colorbar(label='Sharpe Ratio')"
   ]
  },
  {
   "cell_type": "markdown",
   "metadata": {},
   "source": [
    "Find Optimal Portfolio (Max Sharpe) Optionally use scipy.optimize or cvxpy to solve for the tangency portfolio."
   ]
  }
 ],
 "metadata": {
  "language_info": {
   "name": "python"
  }
 },
 "nbformat": 4,
 "nbformat_minor": 2
}
