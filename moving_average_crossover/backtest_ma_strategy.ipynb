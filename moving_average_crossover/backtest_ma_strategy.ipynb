{
 "cells": [
  {
   "cell_type": "code",
   "execution_count": null,
   "metadata": {
    "vscode": {
     "languageId": "plaintext"
    }
   },
   "outputs": [],
   "source": [
    "#yfinance – download historical stock prices\n",
    "import yfinance as yf\n",
    "\n",
    "#pandas, numpy – data wrangling\n",
    "import pandas as pd\n",
    "import numpy as np\n",
    "\n",
    "#matplotlib or plotly – plotting\n",
    "import matplotlib.pyplot as plt\n",
    "import plotly.graph_objects as go\n",
    "\n",
    "#backtrader or manual logic – backtesting engine\n",
    "import backtrader as bt\n",
    "\n",
    "#Optional: streamlit – interactive visualization\n",
    "import streamlit as st"
   ]
  },
  {
   "cell_type": "markdown",
   "metadata": {},
   "source": [
    "Fetch Data"
   ]
  },
  {
   "cell_type": "code",
   "execution_count": null,
   "metadata": {
    "vscode": {
     "languageId": "plaintext"
    }
   },
   "outputs": [],
   "source": [
    "import yfinance as yf\n",
    "data = yf.download(\"AAPL\", start=\"2020-01-01\", end=\"2023-12-31\")"
   ]
  },
  {
   "cell_type": "markdown",
   "metadata": {},
   "source": [
    "Calculate Indicators"
   ]
  },
  {
   "cell_type": "code",
   "execution_count": null,
   "metadata": {
    "vscode": {
     "languageId": "plaintext"
    }
   },
   "outputs": [],
   "source": [
    "data['SMA_50'] = data['Close'].rolling(window=50).mean()\n",
    "data['SMA_200'] = data['Close'].rolling(window=200).mean()"
   ]
  },
  {
   "cell_type": "markdown",
   "metadata": {},
   "source": [
    "Generate Buy/Sell Signals"
   ]
  },
  {
   "cell_type": "code",
   "execution_count": null,
   "metadata": {
    "vscode": {
     "languageId": "plaintext"
    }
   },
   "outputs": [],
   "source": [
    "data['Signal'] = 0\n",
    "data['Signal'][data['SMA_50'] > data['SMA_200']] = 1\n",
    "data['Position'] = data['Signal'].shift()"
   ]
  },
  {
   "cell_type": "markdown",
   "metadata": {},
   "source": [
    "Simulate Trades Calculate returns with and without the strategy:"
   ]
  },
  {
   "cell_type": "code",
   "execution_count": null,
   "metadata": {
    "vscode": {
     "languageId": "plaintext"
    }
   },
   "outputs": [],
   "source": [
    "data['Strategy_Returns'] = data['Close'].pct_change() * data['Position']"
   ]
  },
  {
   "cell_type": "markdown",
   "metadata": {},
   "source": [
    "Evaluate Performance:\n",
    "\n",
    "- Cumulative returns\n",
    "- Sharpe ratio\n",
    "- Max drawdown\n",
    "\n",
    "Visualize Plot:\n",
    "\n",
    "- Price + SMAs\n",
    "- Entry/Exit points\n",
    "- Strategy vs. Buy & Hold performance"
   ]
  }
 ],
 "metadata": {
  "language_info": {
   "name": "python"
  }
 },
 "nbformat": 4,
 "nbformat_minor": 2
}
